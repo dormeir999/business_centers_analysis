{
 "cells": [
  {
   "cell_type": "markdown",
   "metadata": {},
   "source": [
    "# Business Center Effectivness analysis\n",
    "***The outputs were cleard since I don't have the rights over the data...***"
   ]
  },
  {
   "cell_type": "code",
   "execution_count": null,
   "metadata": {},
   "outputs": [],
   "source": [
    "import pandas as pd \n",
    "import numpy as np\n",
    "import matplotlib\n",
    "!pip install linearmodels\n",
    "from linearmodels import PanelOLS\n",
    "from linearmodels import RandomEffects\n",
    "pd.set_option('display.max_colwidth', 999,'max_rows',999,'display.max_rows',999)"
   ]
  },
  {
   "cell_type": "markdown",
   "metadata": {},
   "source": [
    "## Import and declare as Panel Data"
   ]
  },
  {
   "cell_type": "code",
   "execution_count": null,
   "metadata": {},
   "outputs": [],
   "source": [
    "df = pd.read_excel(\"‏‏מסד מאוחד - שבר 2017-2018 וותיקים 2019-PARETO54.xlsx\", encoding='utf-8', error_bad_lines = False,skiprows=9)\n",
    "df=df.sort_values(by=['id',\"שנת הסקר (2017-2018 - שביעות רצון, 2019 - סקר ותיקים)\"])\n",
    "survey_year = pd.Categorical(df[\"שנת הסקר (2017-2018 - שביעות רצון, 2019 - סקר ותיקים)\"])\n",
    "df = df.set_index(['id', \"שנת הסקר (2017-2018 - שביעות רצון, 2019 - סקר ותיקים)\"], drop=False)\n",
    "df.head()"
   ]
  },
  {
   "cell_type": "code",
   "execution_count": null,
   "metadata": {},
   "outputs": [],
   "source": [
    "print(\"There are %s observations and %s features.\"% (df.shape[0],df.shape[1]))\n",
    "print(\"The columns numbers and names are:\")\n",
    "for i in range(0, df.shape[1]):\n",
    "    print(\"%s. %s\" % (i, df.columns[i]))\n",
    "cols = df.columns"
   ]
  },
  {
   "cell_type": "markdown",
   "metadata": {},
   "source": [
    "## Data Pre-processing "
   ]
  },
  {
   "cell_type": "markdown",
   "metadata": {},
   "source": [
    "### convert qunatitiave features to floats\n",
    "These are some questions who were classified as objects even though they are numbers (float, int or datetime):"
   ]
  },
  {
   "cell_type": "code",
   "execution_count": null,
   "metadata": {},
   "outputs": [],
   "source": [
    "non_informative_features = 'id', 'מספר ת.ז.', 'אוכלוסיה','אימייל','מס\"ד לסקר הספציפי בשנה הספציפית','שם לקוח','טלפון'\n",
    "df[df.columns.difference(non_informative_features)].dtypes.value_counts()"
   ]
  },
  {
   "cell_type": "code",
   "execution_count": null,
   "metadata": {},
   "outputs": [],
   "source": [
    "object_questions=df[df.columns.difference(non_informative_features)].dtypes[(df.dtypes==\"object\")].index\n",
    "object_questions\n",
    "for i in range(len(object_questions)):\n",
    "    print(\"%s. %s\" % (i, object_questions[i]))"
   ]
  },
  {
   "cell_type": "code",
   "execution_count": null,
   "metadata": {},
   "outputs": [],
   "source": [
    "df[object_questions].T"
   ]
  },
  {
   "cell_type": "code",
   "execution_count": null,
   "metadata": {},
   "outputs": [],
   "source": [
    "df[object_questions[6]].value_counts()"
   ]
  },
  {
   "cell_type": "code",
   "execution_count": null,
   "metadata": {},
   "outputs": [],
   "source": [
    "df[object_questions[6]].loc[df[object_questions[6]]==\"לא\"]=1\n",
    "df[object_questions[6]]=pd.to_numeric(df[object_questions[6]] , downcast='integer')"
   ]
  },
  {
   "cell_type": "code",
   "execution_count": null,
   "metadata": {},
   "outputs": [],
   "source": [
    "df[object_questions[36]].unique()"
   ]
  },
  {
   "cell_type": "code",
   "execution_count": null,
   "metadata": {},
   "outputs": [],
   "source": [
    "df[object_questions[36]].loc[df[object_questions[36]]=='2013-2014']=2014\n",
    "df[object_questions[36]].loc[df[object_questions[36]]=='12/2017']=2017\n",
    "df[object_questions[36]].loc[df[object_questions[36]]=='12/2017']=2017"
   ]
  },
  {
   "cell_type": "code",
   "execution_count": null,
   "metadata": {},
   "outputs": [],
   "source": [
    "df.loc[df[object_questions[36]]=='2017-2018']"
   ]
  },
  {
   "cell_type": "markdown",
   "metadata": {},
   "source": [
    "### Education"
   ]
  },
  {
   "cell_type": "markdown",
   "metadata": {},
   "source": [
    "#### copy education of 2019 to same people in 2017-2018"
   ]
  },
  {
   "cell_type": "code",
   "execution_count": null,
   "metadata": {},
   "outputs": [],
   "source": [
    "df[\"participated_in_2019\"]=(df[\"שנת הסקר (2017-2018 - שביעות רצון, 2019 - סקר ותיקים)\"] == 2019)*1\n",
    "df.participated_in_2019.loc[df.id.isin(df.loc[df[\"participated_in_2019\"]==1].id.tolist())==True]=1\n",
    "# if the subject participated in 2 survey's in which one of the is 2019, update the non-2019 to the same eduction level:\n",
    "to_udpate=df[(df[\"מספר הסקרים בהם השתתף\"]==2) & (df[\"participated_in_2019\"]==True)][\"ש' 2019 בלבד  - Q25 מהי השכלתך?\"].fillna(method='bfill',limit=1)\n",
    "df.loc[(df[\"מספר הסקרים בהם השתתף\"]==2) & (df[\"participated_in_2019\"]==True),\"ש' 2019 בלבד  - Q25 מהי השכלתך?\"]=to_udpate\n",
    "# if the subject participated in 3 survey's, update the non-2019 to the same eduction level:\n",
    "to_udpate=df[(df[\"מספר הסקרים בהם השתתף\"]==3) & (df[\"participated_in_2019\"]==True)][\"ש' 2019 בלבד  - Q25 מהי השכלתך?\"].fillna(method='bfill',limit=2)\n",
    "df.loc[(df[\"מספר הסקרים בהם השתתף\"]==3) & (df[\"participated_in_2019\"]==True),\"ש' 2019 בלבד  - Q25 מהי השכלתך?\"]=to_udpate"
   ]
  },
  {
   "cell_type": "markdown",
   "metadata": {},
   "source": [
    "#### unify duplicate education categories"
   ]
  },
  {
   "cell_type": "code",
   "execution_count": null,
   "metadata": {},
   "outputs": [],
   "source": [
    "print(df[\"ש' 2019 בלבד  - Q25 מהי השכלתך?\"].value_counts(dropna=False))\n",
    "df[\"ש' 2019 בלבד  - Q25 מהי השכלתך?\"].loc[df[\"ש' 2019 בלבד  - Q25 מהי השכלתך?\"]==\"תיכונית\"]=\"תיכון\"\n",
    "df[\"ש' 2019 בלבד  - Q25 מהי השכלתך?\"].loc[df[\"ש' 2019 בלבד  - Q25 מהי השכלתך?\"]==\"לימודי תעודה\"]=\"על-תיכונית לא-אקדמית: לימודי תעודה, סמינר או קורס מקצועי\"\n",
    "df[\"ש' 2019 בלבד  - Q25 מהי השכלתך?\"].loc[df[\"ש' 2019 בלבד  - Q25 מהי השכלתך?\"]==\"סמינר\"]=\"על-תיכונית לא-אקדמית: לימודי תעודה, סמינר או קורס מקצועי\"\n",
    "df[\"ש' 2019 בלבד  - Q25 מהי השכלתך?\"].loc[df[\"ש' 2019 בלבד  - Q25 מהי השכלתך?\"]==\"קורס מקצועי\"]=\"על-תיכונית לא-אקדמית: לימודי תעודה, סמינר או קורס מקצועי\"\n",
    "df[\"ש' 2019 בלבד  - Q25 מהי השכלתך?\"].loc[df[\"ש' 2019 בלבד  - Q25 מהי השכלתך?\"]==\"מסרב\"]=np.nan\n",
    "df[\"ש' 2019 בלבד  - Q25 מהי השכלתך?\"].value_counts(dropna=False)"
   ]
  },
  {
   "cell_type": "markdown",
   "metadata": {},
   "source": [
    "#### unify education categories to academic/non academic"
   ]
  },
  {
   "cell_type": "code",
   "execution_count": null,
   "metadata": {},
   "outputs": [],
   "source": [
    "df[\"is_academic_education\"]=df[\"ש' 2019 בלבד  - Q25 מהי השכלתך?\"]\n",
    "df[\"is_academic_education\"].loc[df[\"is_academic_education\"]==\"תואר ראשון\"]=\"אקדמית (תואר ראשון ומעלה)\"\n",
    "df[\"is_academic_education\"].loc[df[\"is_academic_education\"]==\"תואר שני ומעלה\"]=\"אקדמית (תואר ראשון ומעלה)\"\n",
    "df[\"is_academic_education\"].loc[df[\"is_academic_education\"]==\"על-תיכונית לא-אקדמית: לימודי תעודה, סמינר או קורס מקצועי\"]=\"לא-אקדמית (תיכונית ועל-תיכונית)\"\n",
    "df[\"is_academic_education\"].loc[df[\"is_academic_education\"]==\"תיכון\"]=\"לא-אקדמית (תיכונית ועל-תיכונית)\"\n",
    "print(\"All years:\")\n",
    "print(df[\"is_academic_education\"].value_counts(dropna=False))\n",
    "#print(\"2009:\")\n",
    "#df_2019[\"is_academic_education\"].value_counts(dropna=False)"
   ]
  },
  {
   "cell_type": "code",
   "execution_count": null,
   "metadata": {},
   "outputs": [],
   "source": [
    "def reverse(s): \n",
    "    str = \"\" \n",
    "    for i in s: \n",
    "        str = i + str\n",
    "    return str\n",
    "def reverse_index(dataframe):\n",
    "    arr=[]\n",
    "    for j in dataframe.index:\n",
    "        arr.append(reverse(j))\n",
    "    return arr\n",
    "df_educ = df[\"ש' 2019 בלבד  - Q25 מהי השכלתך?\"].value_counts()\n",
    "df_educ.index=reverse_index(df_educ)\n",
    "df_educ.plot(kind='bar',fontsize=15,figsize=(19,6),rot=0,title='highest diploma, all years')\n",
    "df_educ.index=reverse_index(df_educ)"
   ]
  },
  {
   "cell_type": "markdown",
   "metadata": {},
   "source": [
    "### Sex"
   ]
  },
  {
   "cell_type": "markdown",
   "metadata": {},
   "source": [
    "#### Identify gender by name"
   ]
  },
  {
   "cell_type": "code",
   "execution_count": null,
   "metadata": {},
   "outputs": [],
   "source": [
    "print(df[\"ש' 2019 בלבד - Q26 (סוקר נא לא להקריא אלא למלא לבד) : מין המרואיין \"].value_counts(dropna=False))\n",
    "df[\"שם פרטי\"]=df[\"שם לקוח\"].str.split(expand=True)[0]\n",
    "df[\"שם משפחה\"]=df[\"שם לקוח\"].str.split(expand=True)[1]\n",
    "df_sex_nan_names=df[\"שם פרטי\"].loc[df[\"ש' 2019 בלבד - Q26 (סוקר נא לא להקריא אלא למלא לבד) : מין המרואיין \"].isna()].unique()\n",
    "df_sex_nan_family_names=df[\"שם משפחה\"].loc[df[\"ש' 2019 בלבד - Q26 (סוקר נא לא להקריא אלא למלא לבד) : מין המרואיין \"].isna()].unique()\n",
    "not_identified_names = df_sex_nan_names[[2,4,6,7,11,14,15,19,21,23,24,39,40,45,47,51,52,54,55,59,61,64,72,79,80,85,86,87,88,93,94,92,95,107,114,116,117,118,121,133,135,136,137,142,150,153,156,160,165,184,187,190,193,195,206]]\n",
    "print(\"not_identified_names:\",not_identified_names)\n",
    "identified_femals = df_sex_nan_names[[13,26,27,30,36,37,38,44,50,76,83,97,100,104,109,139,147,150,151,157,163,166,176,179,180,186,188,189,199,201,203]]\n",
    "print(\"identified_femals:\",identified_femals)\n",
    "not_males = []\n",
    "not_males.append(list(not_identified_names))\n",
    "not_males.append(list(identified_femals))\n",
    "flat_not_males = [item for sublist in not_males for item in sublist]\n",
    "df[\"ש' 2019 בלבד - Q26 (סוקר נא לא להקריא אלא למלא לבד) : מין המרואיין \"].loc[(~df['שם פרטי'].isin(flat_not_males))&(df[\"ש' 2019 בלבד - Q26 (סוקר נא לא להקריא אלא למלא לבד) : מין המרואיין \"].isna())]=\"זכר\"\n",
    "df[\"ש' 2019 בלבד - Q26 (סוקר נא לא להקריא אלא למלא לבד) : מין המרואיין \"].loc[df[\"שם פרטי\"].isin(identified_femals)]=\"נקבה\"\n",
    "df[\"ש' 2019 בלבד - Q26 (סוקר נא לא להקריא אלא למלא לבד) : מין המרואיין \"].value_counts(dropna=False)\n",
    "#df_R3_R5_2019[\"ש' 2019 בלבד - Q26 (סוקר נא לא להקריא אלא למלא לבד) : מין המרואיין \"].value_counts(dropna=False)"
   ]
  },
  {
   "cell_type": "code",
   "execution_count": null,
   "metadata": {},
   "outputs": [],
   "source": [
    "df_2019[\"ש' 2019 בלבד - Q26 (סוקר נא לא להקריא אלא למלא לבד) : מין המרואיין \"].value_counts(dropna=False)"
   ]
  },
  {
   "cell_type": "code",
   "execution_count": null,
   "metadata": {},
   "outputs": [],
   "source": [
    "df_R1_R2_2019[\"ש' 2019 בלבד - Q26 (סוקר נא לא להקריא אלא למלא לבד) : מין המרואיין \"].value_counts(dropna=False)"
   ]
  },
  {
   "cell_type": "code",
   "execution_count": null,
   "metadata": {},
   "outputs": [],
   "source": [
    "df_R3_R5_2019[\"ש' 2019 בלבד - Q26 (סוקר נא לא להקריא אלא למלא לבד) : מין המרואיין \"].value_counts(dropna=False)"
   ]
  },
  {
   "cell_type": "markdown",
   "metadata": {},
   "source": [
    "### Age"
   ]
  },
  {
   "cell_type": "markdown",
   "metadata": {},
   "source": [
    "#### copy age of 2019 to same people in 2017-2018 (minus 1 or 2)\n",
    "(first create participated_in_2018 and participated_in_2017)"
   ]
  },
  {
   "cell_type": "code",
   "execution_count": null,
   "metadata": {},
   "outputs": [],
   "source": [
    "print(df[\"ש' 2019 בלבד  - KEY14 בן/ בת כמה את/ה?\"].value_counts(dropna=False,bins=3).sort_index())\n",
    "df[\"participated_in_2018\"]=(df[\"שנת הסקר (2017-2018 - שביעות רצון, 2019 - סקר ותיקים)\"] == 2018)*1\n",
    "df.participated_in_2018.loc[df.id.isin(df.loc[df[\"participated_in_2018\"]==1].id.tolist())==True]=1\n",
    "df[\"participated_in_2018\"].value_counts()\n",
    "\n",
    "df[\"participated_in_2017\"]=(df[\"שנת הסקר (2017-2018 - שביעות רצון, 2019 - סקר ותיקים)\"] == 2017)*1\n",
    "df.participated_in_2017.loc[df.id.isin(df.loc[df[\"participated_in_2017\"]==1].id.tolist())==True]=1\n",
    "\n",
    "# 2019 to 2018\n",
    "to_udpate=df[\"ש' 2019 בלבד  - KEY14 בן/ בת כמה את/ה?\"].loc[(df[\"participated_in_2018\"]==1)&(df[\"participated_in_2019\"]==1)&(df[\"שנת הסקר (2017-2018 - שביעות רצון, 2019 - סקר ותיקים)\"] != 2017)].fillna(method='bfill',limit=1)\n",
    "df[\"ש' 2019 בלבד  - KEY14 בן/ בת כמה את/ה?\"].loc[(df[\"participated_in_2018\"]==1)&(df[\"participated_in_2019\"]==1)&(df[\"שנת הסקר (2017-2018 - שביעות רצון, 2019 - סקר ותיקים)\"] != 2017)]=to_udpate\n",
    "to_update=df[\"ש' 2019 בלבד  - KEY14 בן/ בת כמה את/ה?\"].loc[(df[\"participated_in_2018\"]==1)&(df[\"participated_in_2019\"]==1)&(df[\"שנת הסקר (2017-2018 - שביעות רצון, 2019 - סקר ותיקים)\"] == 2018)]-1\n",
    "df[\"ש' 2019 בלבד  - KEY14 בן/ בת כמה את/ה?\"].loc[(df[\"participated_in_2018\"]==1)&(df[\"participated_in_2019\"]==1)&(df[\"שנת הסקר (2017-2018 - שביעות רצון, 2019 - סקר ותיקים)\"] == 2018)]=to_update\n",
    "\n",
    "# 2018 to 2017\n",
    "to_udpate=df[\"ש' 2019 בלבד  - KEY14 בן/ בת כמה את/ה?\"].loc[(df[\"participated_in_2018\"]==1)&(df[\"participated_in_2017\"]==1)&(df[\"שנת הסקר (2017-2018 - שביעות רצון, 2019 - סקר ותיקים)\"] != 2019)].fillna(method='bfill',limit=1)\n",
    "df[\"ש' 2019 בלבד  - KEY14 בן/ בת כמה את/ה?\"].loc[(df[\"participated_in_2018\"]==1)&(df[\"participated_in_2017\"]==1)&(df[\"שנת הסקר (2017-2018 - שביעות רצון, 2019 - סקר ותיקים)\"] != 2019)]=to_udpate\n",
    "to_update=df[\"ש' 2019 בלבד  - KEY14 בן/ בת כמה את/ה?\"].loc[(df[\"participated_in_2018\"]==1)&(df[\"participated_in_2017\"]==1)&(df[\"שנת הסקר (2017-2018 - שביעות רצון, 2019 - סקר ותיקים)\"] == 2017)]-1\n",
    "df[\"ש' 2019 בלבד  - KEY14 בן/ בת כמה את/ה?\"].loc[(df[\"participated_in_2018\"]==1)&(df[\"participated_in_2017\"]==1)&(df[\"שנת הסקר (2017-2018 - שביעות רצון, 2019 - סקר ותיקים)\"] == 2017)]=to_update\n",
    "\n",
    "# 2019 to 2017\n",
    "to_udpate=df[\"ש' 2019 בלבד  - KEY14 בן/ בת כמה את/ה?\"].loc[(df[\"participated_in_2018\"]==0)&(df[\"participated_in_2017\"]==1)&(df[\"participated_in_2019\"]==1)&(df[\"שנת הסקר (2017-2018 - שביעות רצון, 2019 - סקר ותיקים)\"] != 2018)].fillna(method='bfill',limit=1)\n",
    "df[\"ש' 2019 בלבד  - KEY14 בן/ בת כמה את/ה?\"].loc[(df[\"participated_in_2018\"]==0)&(df[\"participated_in_2017\"]==1)&(df[\"participated_in_2019\"]==1)&(df[\"שנת הסקר (2017-2018 - שביעות רצון, 2019 - סקר ותיקים)\"] != 2018)]=to_udpate\n",
    "to_update=df[\"ש' 2019 בלבד  - KEY14 בן/ בת כמה את/ה?\"].loc[(df[\"participated_in_2018\"]==0)&(df[\"participated_in_2017\"]==1)&(df[\"participated_in_2019\"]==1)&(df[\"שנת הסקר (2017-2018 - שביעות רצון, 2019 - סקר ותיקים)\"] == 2017)]-2\n",
    "df[\"ש' 2019 בלבד  - KEY14 בן/ בת כמה את/ה?\"].loc[(df[\"participated_in_2018\"]==0)&(df[\"participated_in_2017\"]==1)&(df[\"participated_in_2019\"]==1)&(df[\"שנת הסקר (2017-2018 - שביעות רצון, 2019 - סקר ותיקים)\"] == 2017)]=to_update\n",
    "\n",
    "df[\"ש' 2019 בלבד  - KEY14 בן/ בת כמה את/ה?\"].value_counts(dropna=False,bins=3).sort_index()"
   ]
  },
  {
   "cell_type": "code",
   "execution_count": null,
   "metadata": {},
   "outputs": [],
   "source": [
    "pd.cut(df[\"ש' 2019 בלבד  - KEY14 בן/ בת כמה את/ה?\"], [16,34,66]).value_counts().sort_index()\n",
    "#pd.cut(df_2019[\"ש' 2019 בלבד  - KEY14 בן/ בת כמה את/ה?\"], [16,34,67]).value_counts().sort_index()"
   ]
  },
  {
   "cell_type": "code",
   "execution_count": null,
   "metadata": {},
   "outputs": [],
   "source": [
    "df[\"ש' 2019 בלבד  - KEY14 בן/ בת כמה את/ה?\"].value_counts().sort_index().plot(kind='bar',figsize=(13,6),title='םיאליג',fontsize=14).axvline(14.5, color='red',linestyle='--')"
   ]
  },
  {
   "cell_type": "code",
   "execution_count": null,
   "metadata": {},
   "outputs": [],
   "source": [
    "print(df[\"ש' 2019 בלבד  - KEY14 בן/ בת כמה את/ה?\"].std())\n",
    "df[\"ש' 2019 בלבד  - KEY14 בן/ בת כמה את/ה?\"].mean()"
   ]
  },
  {
   "cell_type": "markdown",
   "metadata": {},
   "source": [
    "### Business sector\n",
    "domain is the participants reported domain (it's very diverse and unorganized), sector is 6 category sector using the 1993 CBS classification"
   ]
  },
  {
   "cell_type": "markdown",
   "metadata": {},
   "source": [
    "#### copy business domain of 2019 to same people in 2017-2018"
   ]
  },
  {
   "cell_type": "code",
   "execution_count": null,
   "metadata": {},
   "outputs": [],
   "source": [
    "print(df[\"תחום עיסוק - מדווח\"].loc[(df[\"שנת הסקר (2017-2018 - שביעות רצון, 2019 - סקר ותיקים)\"] != 2019)].value_counts(dropna=False))\n",
    "to_udpate=df[(df[\"מספר הסקרים בהם השתתף\"]==2) & (df[\"participated_in_2019\"]==True)][\"תחום עיסוק - מדווח\"].fillna(method='bfill',limit=1)\n",
    "df.loc[(df[\"מספר הסקרים בהם השתתף\"]==2) & (df[\"participated_in_2019\"]==True),\"תחום עיסוק - מדווח\"]=to_udpate\n",
    "to_udpate=df[(df[\"מספר הסקרים בהם השתתף\"]==3) & (df[\"participated_in_2019\"]==True)][\"תחום עיסוק - מדווח\"].fillna(method='bfill',limit=2)\n",
    "df.loc[(df[\"מספר הסקרים בהם השתתף\"]==3) & (df[\"participated_in_2019\"]==True),\"תחום עיסוק - מדווח\"]=to_udpate\n",
    "df[\"תחום עיסוק - מדווח\"].loc[(df[\"שנת הסקר (2017-2018 - שביעות רצון, 2019 - סקר ותיקים)\"] != 2019)].value_counts(dropna=False)"
   ]
  },
  {
   "cell_type": "markdown",
   "metadata": {},
   "source": [
    "#### unify businees domain categories to economic sector (1993 classification)\n",
    "https://old.cbs.gov.il/publications13/1544_seker_mischar_2010/pdf/t01.pdf"
   ]
  },
  {
   "cell_type": "code",
   "execution_count": null,
   "metadata": {},
   "outputs": [],
   "source": [
    "מסחר_תיקון_כלי_רכב_ותיקונים_אחרים=df[\"תחום עיסוק - מדווח\"].unique()[[4,16,23,68,74,76,79,110,83,55,132,130,161,137,90]].tolist()\n",
    "print(\"מסחר_תיקון_כלי_רכב_ותיקונים_אחרים:\",מסחר_תיקון_כלי_רכב_ותיקונים_אחרים)\n",
    "תחבורה_אחסנה_ותקשורת=df[\"תחום עיסוק - מדווח\"].unique()[[29,41,52,70,86,95,164,139,141]].tolist()\n",
    "print(\"\")\n",
    "print(\"תחבורה_אחסנה_ותקשורת:\",תחבורה_אחסנה_ותקשורת)\n",
    "בנקאות_ביטוח_ומוסדות_פיננסיים_אחרים=df[\"תחום עיסוק - מדווח\"].unique()[[48,36,81,118]].tolist()\n",
    "print(\"\")\n",
    "print(\"בנקאות_ביטוח_ומוסדות_פיננסיים_אחרים:\",בנקאות_ביטוח_ומוסדות_פיננסיים_אחרים)\n",
    "שירותי_חינוך_בריאות_וסעד_עסקיים=df[\"תחום עיסוק - מדווח\"].unique()[[22,21,27,33,100,102,28,113,34,93,117,32,35,124,15,61,69,117,146,75,101,116,80,42,44,92,111,166,105,43,142,163,]].tolist()\n",
    "print(\"\")\n",
    "print(\"שירותי_חינוך_בריאות_וסעד_עסקיים:\",שירותי_חינוך_בריאות_וסעד_עסקיים)\n",
    "שירותים_חברתיים_אישיים_ואחרים=df[\"תחום עיסוק - מדווח\"].unique()[[1,9,14,20,51,88,94,98,46,162,40,45,57,71,72,84,129,167,108,26,107,149,155,120,126,133,150,168]].tolist()\n",
    "print(\"\")\n",
    "print(\"שירותים_חברתיים_אישיים_ואחרים:\",שירותים_חברתיים_אישיים_ואחרים)\n",
    "\n",
    "\n",
    "הכל_חוץ_משירותים_עסקיים=מסחר_תיקון_כלי_רכב_ותיקונים_אחרים,תחבורה_אחסנה_ותקשורת,בנקאות_ביטוח_ומוסדות_פיננסיים_אחרים,שירותי_חינוך_בריאות_וסעד_עסקיים,שירותים_חברתיים_אישיים_ואחרים\n",
    "flattened = [item for sublist in הכל_חוץ_משירותים_עסקיים for item in sublist]\n",
    "הכל_חוץ_משירותים_עסקיים=flattened\n",
    "def diff(first, second):\n",
    "        second = set(second)\n",
    "        return [item for item in first if item not in second]\n",
    "שירותים_עסקיים=diff(df[\"תחום עיסוק - מדווח\"].unique(),הכל_חוץ_משירותים_עסקיים)[1:]\n",
    "\n",
    "print(\"\")\n",
    "print(\"שירותים_עסקיים:\",שירותים_עסקיים)\n",
    "\n",
    "df[\"business_sector\"]=df[\"תחום עיסוק - מדווח\"]\n",
    "df['business_sector'].loc[df['business_sector'].isin(מסחר_תיקון_כלי_רכב_ותיקונים_אחרים)]=\"מסחר_תיקון_כלי_רכב_ותיקונים_אחרים\"\n",
    "df['business_sector'].loc[df['business_sector'].isin(תחבורה_אחסנה_ותקשורת)]=\"תחבורה_אחסנה_ותקשורת\"\n",
    "df['business_sector'].loc[df['business_sector'].isin(בנקאות_ביטוח_ומוסדות_פיננסיים_אחרים)]=\"בנקאות_ביטוח_ומוסדות_פיננסיים_אחרים\"\n",
    "df['business_sector'].loc[df['business_sector'].isin(שירותי_חינוך_בריאות_וסעד_עסקיים)]=\"שירותי_חינוך_בריאות_וסעד_עסקיים\"\n",
    "df['business_sector'].loc[df['business_sector'].isin(שירותים_חברתיים_אישיים_ואחרים)]=\"שירותים_חברתיים_אישיים_ואחרים\"\n",
    "df['business_sector'].loc[df['business_sector'].isin(שירותים_עסקיים)]=\"שירותים_עסקיים\"\n",
    "df['business_sector'].loc[df['business_sector'].isin([\"בנקאות_ביטוח_ומוסדות_פיננסיים_אחרים\",\"תחבורה_אחסנה_ותקשורת\"])]=\"בנקאות_ביטוח_ומוסדות_פיננסיים_אחרים_וגם_תחבורה_אחסנה_ותקשורת\"\n",
    "df['business_sector'].value_counts()"
   ]
  },
  {
   "cell_type": "code",
   "execution_count": null,
   "metadata": {},
   "outputs": [],
   "source": [
    "'''bla=pd.DataFrame(df_2019['business_sector'].value_counts())\n",
    "bla.index=reverse_index(bla)\n",
    "bla\n",
    "xlabels=reverse_index(pd.DataFrame(df_2019['business_sector'].value_counts()))\n",
    "df_2019['business_sector'].value_counts().plot(kind='bar',fontsize=15,figsize=(19,6),rot=0,title='2019 %s'%reverse(\"מגזר עסקי, סקר ותיקים\")).xticks(np.arange(5), ('%s'%xlabels[0], 'Dick', 'Harry', 'Sally', 'Sue'))\n",
    "new_df_2019.index=reverse_index(new_df_2019)\n",
    "#plot_2019=new_df_2019.plot(kind='bar',fontsize=15,figsize=(19,6),rot=0,title='2019 %s '%reverse(feature_name)).axhline(15,color='black',linestyle='dashed',label=\"15\")\n",
    "plot_2019=new_df_2019.plot(kind='bar',fontsize=15,figsize=(12,6),rot=0,title='(םיקיתו רקס) 2019 %s '%feature_name)\n",
    "plot_2019.axhline(15,color='black',linestyle='dashed')\n",
    "plot_2019.text(-0.64, 15,'15',fontsize=13)\n",
    "new_df_2019.index=reverse_index(new_df_2019)\n",
    "'''\n",
    "df['ש' 2019 בלבד - KEY1 מהו תחום הפעילות של העסק?']"
   ]
  },
  {
   "cell_type": "markdown",
   "metadata": {},
   "source": [
    "### Population groups"
   ]
  },
  {
   "cell_type": "markdown",
   "metadata": {},
   "source": [
    "#### copy population group of 2019 to same people in 2017-2018"
   ]
  },
  {
   "cell_type": "code",
   "execution_count": null,
   "metadata": {},
   "outputs": [],
   "source": [
    "print(df[\"אוכלוסיה\"].loc[(df[\"שנת הסקר (2017-2018 - שביעות רצון, 2019 - סקר ותיקים)\"] != 2019)].value_counts(dropna=False))\n",
    "to_udpate=df[(df[\"מספר הסקרים בהם השתתף\"]==2) & (df[\"participated_in_2019\"]==True)][\"אוכלוסיה\"].fillna(method='bfill',limit=1)\n",
    "df.loc[(df[\"מספר הסקרים בהם השתתף\"]==2) & (df[\"participated_in_2019\"]==True),\"אוכלוסיה\"]=to_udpate\n",
    "to_udpate=df[(df[\"מספר הסקרים בהם השתתף\"]==3) & (df[\"participated_in_2019\"]==True)][\"אוכלוסיה\"].fillna(method='bfill',limit=2)\n",
    "df.loc[(df[\"מספר הסקרים בהם השתתף\"]==3) & (df[\"participated_in_2019\"]==True),\"אוכלוסיה\"]=to_udpate\n",
    "df[\"אוכלוסיה\"].loc[(df[\"שנת הסקר (2017-2018 - שביעות רצון, 2019 - סקר ותיקים)\"] != 2019)].value_counts(dropna=False)"
   ]
  },
  {
   "cell_type": "markdown",
   "metadata": {},
   "source": [
    "#### unify categories into jewish or non jewish"
   ]
  },
  {
   "cell_type": "code",
   "execution_count": null,
   "metadata": {},
   "outputs": [],
   "source": [
    "print(df[\"אוכלוסיה\"].value_counts(dropna=False))\n",
    "df[\"is_jewish\"]=df[\"אוכלוסיה\"]\n",
    "jewish=df[\"אוכלוסיה\"].value_counts(dropna=False).index[[2,3]]\n",
    "non_jewish=df[\"אוכלוסיה\"].value_counts(dropna=False).index[[0,4,5]]\n",
    "print(\"jewish:\",jewish)\n",
    "print(\"non jewish:\",non_jewish)\n",
    "df[\"is_jewish\"].loc[df[\"is_jewish\"].isin(jewish)]=\"יהודים\"\n",
    "df[\"is_jewish\"].loc[df[\"is_jewish\"].isin(non_jewish)]=\"לא-יהודים\"\n",
    "df[\"is_jewish\"].value_counts(dropna=False)"
   ]
  },
  {
   "cell_type": "markdown",
   "metadata": {},
   "source": [
    "#### idenity jewish and non-jewish from NaNs using name "
   ]
  },
  {
   "cell_type": "code",
   "execution_count": null,
   "metadata": {},
   "outputs": [],
   "source": [
    "df_nan_names=pd.DataFrame(df[\"שם לקוח\"].loc[df[\"is_jewish\"].isna()].unique())\n",
    "jewish_names=df_nan_names.iloc[[0,4,7,8,9,11,13,14,15,17,18,19,20,22,23,25,28,29,30,31,32,33,34,35,38,40,42,43,44,45,46]].values.tolist()\n",
    "flattened_jewish_names = [item for sublist in jewish_names for item in sublist]\n",
    "jewish_names=flattened_jewish_names\n",
    "non_jewish_names=df_nan_names[0].loc[~df_nan_names[0].isin(flattened_jewish_names)][3:16].tolist()\n",
    "non_jewish_names.append(df_nan_names[0].loc[~df_nan_names[0].isin(flattened_jewish_names)][18:].tolist()[0])\n",
    "#flattened_non_jewish_names = [item for sublist in non_jewish_names for item in sublist]\n",
    "#flattened_non_jewish_names\n",
    "print(\"non_jewish_names:\",non_jewish_names)\n",
    "print(\"jewish_names:\",jewish_names)\n",
    "df[\"is_jewish\"].loc[df[\"שם לקוח\"].isin(jewish_names)]=\"יהודים\"\n",
    "df[\"is_jewish\"].loc[df[\"שם לקוח\"].isin(non_jewish_names)]=\"לא-יהודים\"\n",
    "df[\"is_jewish\"].value_counts(dropna=False)"
   ]
  },
  {
   "cell_type": "markdown",
   "metadata": {},
   "source": [
    "### Business size"
   ]
  },
  {
   "cell_type": "markdown",
   "metadata": {},
   "source": [
    "### unify to 2 categories only, medium and small"
   ]
  },
  {
   "cell_type": "code",
   "execution_count": null,
   "metadata": {},
   "outputs": [],
   "source": [
    "print(df[\"סוג מספר זיהוי עסק\"].value_counts(dropna=False))\n",
    "df[\"business_size\"]=df[\"סוג מספר זיהוי עסק\"]\n",
    "medium=df[\"סוג מספר זיהוי עסק\"].unique()[[1,3,4,5]].tolist()\n",
    "small=df[\"סוג מספר זיהוי עסק\"].unique()[2]\n",
    "df[\"business_size\"].loc[df[\"business_size\"].isin(medium)]=\"(עוסק מורשה כולל חברה פרטית, שותפות ותעודת זהות) בינוני\"\n",
    "df[\"business_size\"].loc[df[\"business_size\"]==small]=\"(עוסק פטור) קטן\"\n",
    "df[\"business_size\"].value_counts(dropna=False)"
   ]
  },
  {
   "cell_type": "markdown",
   "metadata": {},
   "source": [
    "### add business to the 2 categories, using the income question from before the business entered the business center"
   ]
  },
  {
   "cell_type": "code",
   "execution_count": null,
   "metadata": {},
   "outputs": [],
   "source": [
    "df[\"ש' 2019 בלבד - Q27 מה היה המחזור השנתי של העסק בזמן שנכנסת למרכז העסקים ?\"].replace(\"לא זוכר\", np.nan, inplace=True)\n",
    "df[\"ש' 2019 בלבד - Q27 מה היה המחזור השנתי של העסק בזמן שנכנסת למרכז העסקים ?\"] = pd.to_numeric(df[\"ש' 2019 בלבד - Q27 מה היה המחזור השנתי של העסק בזמן שנכנסת למרכז העסקים ?\"])\n",
    "df[\"business_size\"].loc[(df[\"ש' 2019 בלבד - Q27 מה היה המחזור השנתי של העסק בזמן שנכנסת למרכז העסקים ?\"]>=98707) & (df[\"סוג מספר זיהוי עסק\"].isna())]=\"(עוסק מורשה כולל חברה פרטית, שותפות ותעודת זהות) בינוני\"\n",
    "df[\"business_size\"].loc[(df[\"ש' 2019 בלבד - Q27 מה היה המחזור השנתי של העסק בזמן שנכנסת למרכז העסקים ?\"]<98707) & (df[\"סוג מספר זיהוי עסק\"].isna())]=\"(עוסק פטור) קטן\"\n",
    "df[\"business_size\"].value_counts(dropna=False)"
   ]
  },
  {
   "cell_type": "markdown",
   "metadata": {},
   "source": [
    "### Lastly - Create different dataframe for every year\n",
    "And in every year keep only relevant questions in which there are any answers (using the questions_responsiveness_year dataframe)"
   ]
  },
  {
   "cell_type": "code",
   "execution_count": null,
   "metadata": {},
   "outputs": [],
   "source": [
    "questions_responsiveness = pd.DataFrame(df.count().sort_values(ascending=False))\n",
    "df_2017 = df.loc[df['שנת הסקר (2017-2018 - שביעות רצון, 2019 - סקר ותיקים)'] == 2017]\n",
    "questions_responsiveness_2017 = pd.DataFrame(df_2017.count().sort_values(ascending=False))\n",
    "df_2017 = df_2017[questions_responsiveness_2017[questions_responsiveness_2017.iloc[:,0]>0].index]\n",
    "questions_responsiveness_2017 = pd.DataFrame(df_2017.count().sort_values(ascending=False))\n",
    "df_2018 = df.loc[df['שנת הסקר (2017-2018 - שביעות רצון, 2019 - סקר ותיקים)'] == 2018]\n",
    "questions_responsiveness_2018 = pd.DataFrame(df_2018.count().sort_values(ascending=False))\n",
    "df_2018 = df_2018[questions_responsiveness_2018[questions_responsiveness_2018.iloc[:,0]>0].index]\n",
    "questions_responsiveness_2018 = pd.DataFrame(df_2018.count().sort_values(ascending=False))\n",
    "df_2019 = df.loc[df['שנת הסקר (2017-2018 - שביעות רצון, 2019 - סקר ותיקים)'] == 2019]\n",
    "questions_responsiveness_2019 = pd.DataFrame(df_2019.count().sort_values(ascending=False))\n",
    "df_2019 = df_2019[questions_responsiveness_2019[questions_responsiveness_2019.iloc[:,0]>0].index]\n",
    "questions_responsiveness_2019 = pd.DataFrame(df_2019.count().sort_values(ascending=False))\n",
    "df_2017_full = df_2017.loc[df_2017['ענה על חצי מהשאלות בשאלון או יותר'] == 1]\n",
    "df_2018_full = df_2018.loc[df_2018['ענה על חצי מהשאלות בשאלון או יותר'] == 1]\n",
    "df_2019_full = df_2019.loc[df_2019['ענה על חצי מהשאלות בשאלון או יותר'] == 1]\n",
    "df_full = df.loc[df['ענה על חצי מהשאלות בשאלון או יותר'] == 1]"
   ]
  },
  {
   "cell_type": "markdown",
   "metadata": {},
   "source": [
    "## Descriptive Statistics - Sample"
   ]
  },
  {
   "cell_type": "code",
   "execution_count": null,
   "metadata": {},
   "outputs": [],
   "source": [
    "\n",
    "df[df.columns.difference(non_informative_features)].describe(include='all').T.round(1)\n"
   ]
  },
  {
   "cell_type": "markdown",
   "metadata": {},
   "source": [
    "The number of times each unique participated in the surverys:"
   ]
  },
  {
   "cell_type": "code",
   "execution_count": null,
   "metadata": {
    "scrolled": true
   },
   "outputs": [],
   "source": [
    "times_participated = pd.DataFrame(columns=[\"Pooled\"])\n",
    "times_participated[\"Pooled\"] = df[\"מספר הסקרים בהם השתתף\"].value_counts(dropna=False)\n",
    "# Divide in number of surveys, since for participants and participated twice (thrice) there are two (three) lines\n",
    "times_participated.loc[2] = times_participated.loc[2]//2\n",
    "times_participated.loc[3] = times_participated.loc[3]//3\n",
    "times_participated=times_participated.iloc[:3]\n",
    "times_participated.append = times_participated.sum\n",
    "times_participated=times_participated.reindex([1,2,3])\n",
    "times_participated.rename(index={1:'once',2:'twice', 3:'thrice'}, inplace=True)\n",
    "summation = pd.Series(times_participated.sum(axis=0),name='SUM of *unique* participants')\n",
    "times_participated=times_participated.append(summation)\n",
    "times_participated\n"
   ]
  },
  {
   "cell_type": "code",
   "execution_count": null,
   "metadata": {},
   "outputs": [],
   "source": [
    "times_participated.plot(kind='bar',fontsize=15,figsize=(19,6),rot=0,title='times_participated, unique participants')"
   ]
  },
  {
   "cell_type": "code",
   "execution_count": null,
   "metadata": {},
   "outputs": [],
   "source": [
    "def create_feature_specific_df(feature_name,new_df_name):\n",
    "    # Define Variables\n",
    "    columns_names = [\"No. Pooled\",\"% 2019\",\"% 2018\",\"% 2017\",\"No. Pooled_full\",\"% 2019_full\",\"% 2018_full\",\"% 2017_full\"]\n",
    "    pooled_column = 'No. Pooled'\n",
    "    pooled_column_full = 'No. Pooled_full'\n",
    "    pooled_columns = [pooled_column,pooled_column_full]\n",
    "    pooled_dfs = df,df_full\n",
    "    pooled_df = df\n",
    "    pooled_df_full = df_full\n",
    "    years_columns = [\"% 2019\",\"% 2019_full\",\"% 2018\",\"% 2018_full\",\"% 2017\",\"% 2017_full\"]\n",
    "    years_dfs = df_2019,df_2019_full,df_2018,df_2018_full,df_2017,df_2017_full\n",
    "    year_2019_dfs = df_2019,df_2019_full\n",
    "    year_2019_columns = \"2019\",\"2019_full\"\n",
    "    sum_column = 'SUM (not Nan)'\n",
    "    # Insert Data\n",
    "    new_df_name = pd.DataFrame(columns=columns_names)\n",
    "    new_df_2019 = pd.DataFrame(columns=year_2019_columns)\n",
    "\n",
    "    for column,dataframe in zip(pooled_columns,pooled_dfs):\n",
    "        new_df_name[column] = dataframe[feature_name].value_counts(dropna=False)\n",
    "    for column,dataframe,pooled_columns in zip(years_columns,years_dfs,pooled_columns*3):\n",
    "        if feature_name in dataframe.columns:\n",
    "            new_df_name[column] = dataframe[feature_name].value_counts(dropna=False)/new_df_name[pooled_columns]*100 \n",
    "    new_df_name=new_df_name.append(pd.Series(name=sum_column))\n",
    "    new_df_name.loc[sum_column,pooled_column] = pooled_df[feature_name].value_counts(dropna=True).sum()\n",
    "    new_df_name.loc[sum_column,pooled_column_full] = pooled_df_full[feature_name].value_counts(dropna=True).sum()\n",
    "    count=0\n",
    "    for column,dataframe in zip(years_columns,years_dfs):\n",
    "        if feature_name in dataframe.columns:\n",
    "            if count%2==0:\n",
    "                new_df_name.loc[sum_column,column] = dataframe[feature_name].value_counts(dropna=True).sum()/new_df_name.loc[sum_column,pooled_column]*100 \n",
    "            elif count%2==1:\n",
    "                new_df_name.loc[sum_column,column] = dataframe[feature_name].value_counts(dropna=True).sum()/new_df_name.loc[sum_column,pooled_column_full]*100 \n",
    "        count+=1\n",
    "    new_df_name = new_df_name.fillna(0)\n",
    "    new_df_name = new_df_name.astype('int64', copy=False)\n",
    "    for column in years_columns:\n",
    "        new_df_name[column] = new_df_name[column].map(str) + \"%\"\n",
    "    \n",
    "    # 2019\n",
    "    for column,dataframe in zip(year_2019_columns,year_2019_dfs):\n",
    "        new_df_2019[column] = dataframe[feature_name].value_counts(dropna=True)\n",
    "    new_df_2019.index=reverse_index(new_df_2019)\n",
    "    #plot_2019=new_df_2019.plot(kind='bar',fontsize=15,figsize=(19,6),rot=0,title='2019 %s '%reverse(feature_name)).axhline(15,color='black',linestyle='dashed',label=\"15\")\n",
    "    plot_2019=new_df_2019.plot(kind='bar',fontsize=15,figsize=(12,6),rot=0,title='(םיקיתו רקס) 2019 %s '%feature_name)\n",
    "    plot_2019.axhline(15,color='black',linestyle='dashed')\n",
    "    plot_2019.text(-0.64, 15,'15',fontsize=13)\n",
    "    new_df_2019.index=reverse_index(new_df_2019)\n",
    "\n",
    "    return new_df_name,new_df_2019,plot_2019"
   ]
  },
  {
   "cell_type": "code",
   "execution_count": null,
   "metadata": {},
   "outputs": [],
   "source": [
    "groups,groups_2019,groups_2019_plot=create_feature_specific_df(\"אוכלוסיה\",\"groups\")\n",
    "groups"
   ]
  },
  {
   "cell_type": "code",
   "execution_count": null,
   "metadata": {},
   "outputs": [],
   "source": [
    "are_jewish,are_jewish_2019,are_jewish_2019_plot=create_feature_specific_df(\"is_jewish\",\"are_jewish\")\n",
    "are_jewish"
   ]
  },
  {
   "cell_type": "code",
   "execution_count": null,
   "metadata": {},
   "outputs": [],
   "source": [
    "sex,sex_2019,sex_2019_plot=create_feature_specific_df(\"ש' 2019 בלבד - Q26 (סוקר נא לא להקריא אלא למלא לבד) : מין המרואיין \",\"sex\")\n",
    "sex"
   ]
  },
  {
   "cell_type": "code",
   "execution_count": null,
   "metadata": {},
   "outputs": [],
   "source": [
    "education,education_2019,education_2019_plot=create_feature_specific_df(\"ש' 2019 בלבד  - Q25 מהי השכלתך?\",\"education\")\n",
    "education"
   ]
  },
  {
   "cell_type": "code",
   "execution_count": null,
   "metadata": {},
   "outputs": [],
   "source": [
    "academic_education,academic_education_2019,academic_education_2019_plot=create_feature_specific_df(\"is_academic_education\",\"education\")\n",
    "academic_education"
   ]
  },
  {
   "cell_type": "code",
   "execution_count": null,
   "metadata": {},
   "outputs": [],
   "source": [
    "business_sector,business_sector_2019,business_sector_2019_plot=create_feature_specific_df('business_sector',\"business_sector\")\n",
    "business_sector"
   ]
  },
  {
   "cell_type": "code",
   "execution_count": null,
   "metadata": {},
   "outputs": [],
   "source": []
  },
  {
   "cell_type": "code",
   "execution_count": null,
   "metadata": {},
   "outputs": [],
   "source": [
    "business_domain,business_domain_2019,business_domain_2019_plot=create_feature_specific_df('קבוצת תחום עיסוק - משוערת',\"business_domain\")\n",
    "business_domain=business_domain.drop(columns=['% 2018','% 2017','% 2018_full','% 2017_full'])\n",
    "business_domain1 = business_domain.iloc[:22,]\n",
    "business_domain2 = business_domain.iloc[22:,]\n",
    "business_domain1"
   ]
  },
  {
   "cell_type": "code",
   "execution_count": null,
   "metadata": {},
   "outputs": [],
   "source": [
    "business_domain2"
   ]
  },
  {
   "cell_type": "code",
   "execution_count": null,
   "metadata": {},
   "outputs": [],
   "source": [
    "business_registration,business_registration_2019,business_registration_2019_plot=create_feature_specific_df(\"סוג מספר זיהוי עסק\",\"business_registration\")\n",
    "business_registration=business_registration.drop(columns=['% 2018','% 2017','% 2018_full','% 2017_full'])\n",
    "business_registration"
   ]
  },
  {
   "cell_type": "code",
   "execution_count": null,
   "metadata": {},
   "outputs": [],
   "source": [
    "business_size,business_size_2019,business_size_2019_plot=create_feature_specific_df(\"business_size\",\"business_size\")\n",
    "business_size=business_size.drop(columns=['% 2018','% 2017','% 2018_full','% 2017_full'])\n",
    "business_size"
   ]
  },
  {
   "cell_type": "code",
   "execution_count": null,
   "metadata": {},
   "outputs": [],
   "source": [
    "region,region_2019,region_2019_plot=create_feature_specific_df(\"אשכול\",\"region\")\n",
    "#region=region.reindex([1,2,3,5,'SUM (not Nan)'])\n",
    "#region.rename(index={1:'R1. North East (גולן, נצרת, ראש פינה וסכנין)',2:'R2. North West (באקה אלגרביה, שפרעם, ירכא)', 3:'R3. Center (בני ברק)',5:'R5. South (באר שבע, רהט, שדרות)','SUM (not Nan)':'SUM (not Nan)'}, inplace=True)\n",
    "region"
   ]
  },
  {
   "cell_type": "code",
   "execution_count": null,
   "metadata": {},
   "outputs": [],
   "source": [
    "business_center,business_center_2019,business_center_2019_plot=create_feature_specific_df(\"מרכז עסקים\",\"business_registration\")\n",
    "business_center"
   ]
  },
  {
   "cell_type": "markdown",
   "metadata": {},
   "source": [
    "### Region specific statistics"
   ]
  },
  {
   "cell_type": "code",
   "execution_count": null,
   "metadata": {},
   "outputs": [],
   "source": [
    "df.is_jewish.value_counts()"
   ]
  },
  {
   "cell_type": "code",
   "execution_count": null,
   "metadata": {},
   "outputs": [],
   "source": [
    "df_2019.is_jewish.value_counts()"
   ]
  },
  {
   "cell_type": "code",
   "execution_count": null,
   "metadata": {},
   "outputs": [],
   "source": [
    "df_R1 = df.loc[df['אשכול'] == 1]\n",
    "df_R2 = df.loc[df['אשכול'] == 2]\n",
    "df_R1_R2 = df.loc[(df['אשכול'] == 1) | (df['אשכול'] == 2)]\n",
    "df_R3 = df.loc[df['אשכול'] == 3]\n",
    "df_R5 = df.loc[df['אשכול'] == 5]\n",
    "df_R3_R5 = df.loc[(df['אשכול'] == 3) | (df['אשכול'] == 5)]\n",
    "\n",
    "df_R1_full = df_R1.loc[df_R1['ענה על חצי מהשאלות בשאלון או יותר'] == 1]\n",
    "df_R2_full = df_R2.loc[df_R2['ענה על חצי מהשאלות בשאלון או יותר'] == 1]\n",
    "df_R1_R2_full = df_R1_R2.loc[df_R1_R2['ענה על חצי מהשאלות בשאלון או יותר'] == 1]\n",
    "df_R3_full = df_R3.loc[df_R3['ענה על חצי מהשאלות בשאלון או יותר'] == 1]\n",
    "df_R5_full = df_R5.loc[df_R5['ענה על חצי מהשאלות בשאלון או יותר'] == 1]\n",
    "df_R3_R5_full = df_R3_R5.loc[df_R3_R5['ענה על חצי מהשאלות בשאלון או יותר'] == 1]\n",
    "\n",
    "# Create empty regions dfs\n",
    "df_years = \"2017\",\"2018\",\"2019\"\n",
    "df_regions = \"R1\",\"R2\",\"R3\",\"R5\"\n",
    "full=\"\",\"_full\"\n",
    "df_names=[]\n",
    "for region in df_regions:\n",
    "    for year in df_years:\n",
    "        for full_or_not in full:\n",
    "            df_names.append(\"df_%s_%s%s\"%(region,year,full_or_not))\n",
    "for df_to_create in df_names:\n",
    "    exec('{} = pd.DataFrame()'.format(df_to_create))\n",
    "\n",
    "# Fill empty regions dfs\n",
    "df_R1_2017 = df_2017.loc[df_2017['אשכול'] == 1]\n",
    "df_R1_2017_full = df_2017_full.loc[df_2017_full['אשכול'] == 1]\n",
    "df_R1_2018 = df_2018.loc[df_2018['אשכול'] == 1]\n",
    "df_R1_2018_full = df_2018_full.loc[df_2018_full['אשכול'] == 1]\n",
    "df_R1_2019 = df_2019.loc[df_2019['אשכול'] == 1]\n",
    "df_R1_2019_full = df_2019_full.loc[df_2019_full['אשכול'] == 1]\n",
    "df_R2_2017 = df_2017.loc[df_2017['אשכול'] == 2]\n",
    "df_R2_2017_full = df_2017_full.loc[df_2017_full['אשכול'] == 2]\n",
    "df_R2_2018 = df_2018.loc[df_2018['אשכול'] == 2]\n",
    "df_R2_2018_full = df_2018_full.loc[df_2018_full['אשכול'] == 2]\n",
    "df_R2_2019 = df_2019.loc[df_2019['אשכול'] == 2]\n",
    "df_R2_2019_full = df_2019_full.loc[df_2019_full['אשכול'] == 2]\n",
    "df_R3_2017 = df_2017.loc[df_2017['אשכול'] == 3]\n",
    "df_R3_2017_full = df_2017_full.loc[df_2017_full['אשכול'] == 3]\n",
    "df_R3_2018 = df_2018.loc[df_2018['אשכול'] == 3]\n",
    "df_R3_2018_full = df_2018_full.loc[df_2018_full['אשכול'] == 3]\n",
    "df_R3_2019 = df_2019.loc[df_2019['אשכול'] == 3]\n",
    "df_R3_2019_full = df_2019_full.loc[df_2019_full['אשכול'] == 3]\n",
    "df_R5_2017 = df_2017.loc[df_2017['אשכול'] == 5]\n",
    "df_R5_2017_full = df_2017_full.loc[df_2017_full['אשכול'] == 5]\n",
    "df_R5_2018 = df_2018.loc[df_2018['אשכול'] == 5]\n",
    "df_R5_2018_full = df_2018_full.loc[df_2018_full['אשכול'] == 5]\n",
    "df_R5_2019 = df_2019.loc[df_2019['אשכול'] == 5]\n",
    "df_R5_2019_full = df_2019_full.loc[df_2019_full['אשכול'] == 5]\n",
    "df_R1_R2_2017 = df_2017.loc[(df_2017['אשכול'] == 1)|(df_2017['אשכול'] == 2)]\n",
    "df_R1_R2_2018 = df_2018.loc[(df_2018['אשכול'] == 1)|(df_2018['אשכול'] == 2)]\n",
    "df_R1_R2_2019 = df_2019.loc[(df_2019['אשכול'] == 1)|(df_2019['אשכול'] == 2)]\n",
    "df_R3_R5_2017 = df_2017.loc[(df_2017['אשכול'] == 3)|(df_2017['אשכול'] == 5)]\n",
    "df_R3_R5_2018 = df_2018.loc[(df_2018['אשכול'] == 3)|(df_2018['אשכול'] == 5)]\n",
    "df_R3_R5_2019 = df_2019.loc[(df_2019['אשכול'] == 3)|(df_2019['אשכול'] == 5)]\n",
    "df_R1_R2_2017_full = df_2017_full.loc[(df_2017_full['אשכול'] == 1)|(df_2017_full['אשכול'] == 2)]\n",
    "df_R1_R2_2018_full = df_2018_full.loc[(df_2018_full['אשכול'] == 1)|(df_2018_full['אשכול'] == 2)]\n",
    "df_R1_R2_2019_full = df_2019_full.loc[(df_2019_full['אשכול'] == 1)|(df_2019_full['אשכול'] == 2)]\n",
    "df_R3_R5_2017_full = df_2017_full.loc[(df_2017_full['אשכול'] == 3)|(df_2017_full['אשכול'] == 5)]\n",
    "df_R3_R5_2018_full = df_2018_full.loc[(df_2018_full['אשכול'] == 3)|(df_2018_full['אשכול'] == 5)]\n",
    "df_R3_R5_2019_full = df_2019_full.loc[(df_2019_full['אשכול'] == 3)|(df_2019_full['אשכול'] == 5)]\n",
    "\n",
    "def create_R1_specific_df(feature_name,new_df_name):\n",
    "    # Define Variables\n",
    "    columns_names = [\"No. Pooled\",\"% 2019\",\"% 2018\",\"% 2017\",\"No. Pooled_full\",\"% 2019_full\",\"% 2018_full\",\"% 2017_full\"]\n",
    "    pooled_column = 'No. Pooled'\n",
    "    pooled_column_full = 'No. Pooled_full'\n",
    "    pooled_columns = [pooled_column,pooled_column_full]\n",
    "    pooled_dfs = df_R1,df_R1_full\n",
    "    pooled_df = df_R1\n",
    "    pooled_df_full = df_R1_full\n",
    "    years_columns = [\"% 2019\",\"% 2019_full\",\"% 2018\",\"% 2018_full\",\"% 2017\",\"% 2017_full\"]\n",
    "    years_dfs = df_R1_2019,df_R1_2019_full,df_R1_2018,df_R1_2018_full,df_R1_2017,df_R1_2017_full\n",
    "    year_2019_dfs = df_R1_2019,df_R1_2019_full\n",
    "    year_2019_columns = \"2019\",\"2019_full\"\n",
    "    sum_column = 'SUM (not Nan)'\n",
    "    \n",
    "    # Insert Data\n",
    "    new_df_name = pd.DataFrame(columns=columns_names)\n",
    "    new_df_2019 = pd.DataFrame(columns=year_2019_columns)\n",
    "    for column,dataframe in zip(pooled_columns,pooled_dfs):\n",
    "        new_df_name[column] = dataframe[feature_name].value_counts(dropna=False)\n",
    "    for column,dataframe,pooled_columns in zip(years_columns,years_dfs,pooled_columns*3):\n",
    "        if feature_name in dataframe.columns:\n",
    "            new_df_name[column] = dataframe[feature_name].value_counts(dropna=False)/new_df_name[pooled_columns]*100 \n",
    "    new_df_name=new_df_name.append(pd.Series(name=sum_column))\n",
    "    new_df_name.loc[sum_column,pooled_column] = pooled_df[feature_name].value_counts(dropna=True).sum()\n",
    "    new_df_name.loc[sum_column,pooled_column_full] = pooled_df_full[feature_name].value_counts(dropna=True).sum()\n",
    "    count=0\n",
    "    for column,dataframe in zip(years_columns,years_dfs):\n",
    "        if feature_name in dataframe.columns:\n",
    "            if count%2==0:\n",
    "                new_df_name.loc[sum_column,column] = dataframe[feature_name].value_counts(dropna=True).sum()/new_df_name.loc[sum_column,pooled_column]*100 \n",
    "            elif count%2==1:\n",
    "                new_df_name.loc[sum_column,column] = dataframe[feature_name].value_counts(dropna=True).sum()/new_df_name.loc[sum_column,pooled_column_full]*100 \n",
    "        count+=1\n",
    "    new_df_name = new_df_name.fillna(0)\n",
    "    new_df_name = new_df_name.astype('int64', copy=False)\n",
    "    for column in years_columns:\n",
    "        new_df_name[column] = new_df_name[column].map(str) + \"%\"\n",
    "    \n",
    "    # 2019\n",
    "    for column,dataframe in zip(year_2019_columns,year_2019_dfs):\n",
    "        new_df_2019[column] = dataframe[feature_name].value_counts(dropna=True)\n",
    "    new_df_2019.index=reverse_index(new_df_2019)\n",
    "    #plot_2019=new_df_2019.plot(kind='bar',fontsize=15,figsize=(19,6),rot=0,title='2019 %s '%reverse(feature_name)).axhline(15,color='black',linestyle='dashed',label=\"15\")\n",
    "    plot_2019=new_df_2019.plot(kind='bar',fontsize=15,figsize=(16,6),rot=0,title='1 לוכשא - (םיקיתו רקס) 2019 %s  '%reverse(feature_name))\n",
    "    #plot_2019=new_df_2019.plot(kind='bar',fontsize=15,figsize=(16,6),rot=0,title='1 לוכשא - (םיקיתו רקס) 2019 %s  '%feature_name)\n",
    "    plot_2019.axhline(15,color='black',linestyle='dashed')\n",
    "    plot_2019.text(-0.64, 15,'15',fontsize=13)\n",
    "    new_df_2019.index=reverse_index(new_df_2019)\n",
    "    \n",
    "    return new_df_name,new_df_2019,plot_2019\n",
    "\n",
    "def create_R2_specific_df(feature_name,new_df_name):\n",
    "    # Define Variables\n",
    "    columns_names = [\"No. Pooled\",\"% 2019\",\"% 2018\",\"% 2017\",\"No. Pooled_full\",\"% 2019_full\",\"% 2018_full\",\"% 2017_full\"]\n",
    "    pooled_column = 'No. Pooled'\n",
    "    pooled_column_full = 'No. Pooled_full'\n",
    "    pooled_columns = [pooled_column,pooled_column_full]\n",
    "    pooled_dfs = df_R2,df_R2_full\n",
    "    pooled_df = df_R2\n",
    "    pooled_df_full = df_R2_full\n",
    "    years_columns = [\"% 2019\",\"% 2019_full\",\"% 2018\",\"% 2018_full\",\"% 2017\",\"% 2017_full\"]\n",
    "    years_dfs = df_R2_2019,df_R2_2019_full,df_R2_2018,df_R2_2018_full,df_R2_2017,df_R2_2017_full\n",
    "    year_2019_dfs = df_R2_2019,df_R2_2019_full\n",
    "    year_2019_columns = \"2019\",\"2019_full\"\n",
    "    sum_column = 'SUM (not Nan)'\n",
    "    # Insert Data\n",
    "    new_df_name = pd.DataFrame(columns=columns_names)\n",
    "    new_df_2019 = pd.DataFrame(columns=year_2019_columns)\n",
    "    for column,dataframe in zip(pooled_columns,pooled_dfs):\n",
    "        new_df_name[column] = dataframe[feature_name].value_counts(dropna=False)\n",
    "    for column,dataframe,pooled_columns in zip(years_columns,years_dfs,pooled_columns*3):\n",
    "        if feature_name in dataframe.columns:\n",
    "            new_df_name[column] = dataframe[feature_name].value_counts(dropna=False)/new_df_name[pooled_columns]*100 \n",
    "    new_df_name=new_df_name.append(pd.Series(name=sum_column))\n",
    "    new_df_name.loc[sum_column,pooled_column] = pooled_df[feature_name].value_counts(dropna=True).sum()\n",
    "    new_df_name.loc[sum_column,pooled_column_full] = pooled_df_full[feature_name].value_counts(dropna=True).sum()\n",
    "    count=0\n",
    "    for column,dataframe in zip(years_columns,years_dfs):\n",
    "        if feature_name in dataframe.columns:\n",
    "            if count%2==0:\n",
    "                new_df_name.loc[sum_column,column] = dataframe[feature_name].value_counts(dropna=True).sum()/new_df_name.loc[sum_column,pooled_column]*100 \n",
    "            elif count%2==1:\n",
    "                new_df_name.loc[sum_column,column] = dataframe[feature_name].value_counts(dropna=True).sum()/new_df_name.loc[sum_column,pooled_column_full]*100 \n",
    "        count+=1\n",
    "    new_df_name = new_df_name.fillna(0)\n",
    "    new_df_name = new_df_name.astype('int64', copy=False)\n",
    "    for column in years_columns:\n",
    "        new_df_name[column] = new_df_name[column].map(str) + \"%\"\n",
    "    \n",
    "    # 2019\n",
    "    for column,dataframe in zip(year_2019_columns,year_2019_dfs):\n",
    "        new_df_2019[column] = dataframe[feature_name].value_counts(dropna=True)\n",
    "    new_df_2019.index=reverse_index(new_df_2019)\n",
    "    #plot_2019=new_df_2019.plot(kind='bar',fontsize=15,figsize=(19,6),rot=0,title='2019 %s '%reverse(feature_name)).axhline(15,color='black',linestyle='dashed',label=\"15\")\n",
    "    plot_2019=new_df_2019.plot(kind='bar',fontsize=15,figsize=(16,6),rot=0,title='2 לוכשא - (םיקיתו רקס) 2019 %s  '%reverse(feature_name))\n",
    "    #plot_2019=new_df_2019.plot(kind='bar',fontsize=15,figsize=(16,6),rot=0,title='2 לוכשא - (םיקיתו רקס) 2019 %s  '%feature_name)\n",
    "    plot_2019.axhline(15,color='black',linestyle='dashed')\n",
    "    plot_2019.text(-0.64, 15,'15',fontsize=13)\n",
    "    new_df_2019.index=reverse_index(new_df_2019)\n",
    "    \n",
    "    return new_df_name,new_df_2019,plot_2019\n",
    "\n",
    "def create_R3_specific_df(feature_name,new_df_name):\n",
    "    # Define Variables\n",
    "    columns_names = [\"No. Pooled\",\"% 2019\",\"% 2018\",\"% 2017\",\"No. Pooled_full\",\"% 2019_full\",\"% 2018_full\",\"% 2017_full\"]\n",
    "    pooled_column = 'No. Pooled'\n",
    "    pooled_column_full = 'No. Pooled_full'\n",
    "    pooled_columns = [pooled_column,pooled_column_full]\n",
    "    pooled_dfs = df_R3,df_R3_full\n",
    "    pooled_df = df_R3\n",
    "    pooled_df_full = df_R3_full\n",
    "    years_columns = [\"% 2019\",\"% 2019_full\",\"% 2018\",\"% 2018_full\",\"% 2017\",\"% 2017_full\"]\n",
    "    years_dfs = df_R3_2019,df_R3_2019_full,df_R3_2018,df_R3_2018_full,df_R3_2017,df_R3_2017_full\n",
    "    year_2019_dfs = df_R3_2019,df_R3_2019_full\n",
    "    year_2019_columns = \"2019\",\"2019_full\"\n",
    "    sum_column = 'SUM (not Nan)'\n",
    "    # Insert Data\n",
    "    new_df_name = pd.DataFrame(columns=columns_names)\n",
    "    new_df_2019 = pd.DataFrame(columns=year_2019_columns)\n",
    "    for column,dataframe in zip(pooled_columns,pooled_dfs):\n",
    "        new_df_name[column] = dataframe[feature_name].value_counts(dropna=False)\n",
    "    for column,dataframe,pooled_columns in zip(years_columns,years_dfs,pooled_columns*3):\n",
    "        if feature_name in dataframe.columns:\n",
    "            new_df_name[column] = dataframe[feature_name].value_counts(dropna=False)/new_df_name[pooled_columns]*100 \n",
    "    new_df_name=new_df_name.append(pd.Series(name=sum_column))\n",
    "    new_df_name.loc[sum_column,pooled_column] = pooled_df[feature_name].value_counts(dropna=True).sum()\n",
    "    new_df_name.loc[sum_column,pooled_column_full] = pooled_df_full[feature_name].value_counts(dropna=True).sum()\n",
    "    count=0\n",
    "    for column,dataframe in zip(years_columns,years_dfs):\n",
    "        if feature_name in dataframe.columns:\n",
    "            if count%2==0:\n",
    "                new_df_name.loc[sum_column,column] = dataframe[feature_name].value_counts(dropna=True).sum()/new_df_name.loc[sum_column,pooled_column]*100 \n",
    "            elif count%2==1:\n",
    "                new_df_name.loc[sum_column,column] = dataframe[feature_name].value_counts(dropna=True).sum()/new_df_name.loc[sum_column,pooled_column_full]*100 \n",
    "        count+=1\n",
    "    new_df_name = new_df_name.fillna(0)\n",
    "    new_df_name = new_df_name.astype('int64', copy=False)\n",
    "    for column in years_columns:\n",
    "        new_df_name[column] = new_df_name[column].map(str) + \"%\"\n",
    "    # 2019\n",
    "    for column,dataframe in zip(year_2019_columns,year_2019_dfs):\n",
    "        new_df_2019[column] = dataframe[feature_name].value_counts(dropna=True)\n",
    "    new_df_2019.index=reverse_index(new_df_2019)\n",
    "    #plot_2019=new_df_2019.plot(kind='bar',fontsize=15,figsize=(19,6),rot=0,title='2019 %s '%reverse(feature_name)).axhline(15,color='black',linestyle='dashed',label=\"15\")\n",
    "    plot_2019=new_df_2019.plot(kind='bar',fontsize=15,figsize=(16,6),rot=0,title='3 לוכשא - (םיקיתו רקס) 2019 %s  '%reverse(feature_name))\n",
    "    #plot_2019=new_df_2019.plot(kind='bar',fontsize=15,figsize=(16,6),rot=0,title='3 לוכשא - (םיקיתו רקס) 2019 %s  '%feature_name)\n",
    "    plot_2019.axhline(15,color='black',linestyle='dashed')\n",
    "    plot_2019.text(-0.64, 15,'15',fontsize=13)\n",
    "    new_df_2019.index=reverse_index(new_df_2019)\n",
    "    return new_df_name,new_df_2019,plot_2019\n",
    "\n",
    "def create_R5_specific_df(feature_name,new_df_name):\n",
    "    # Define Variables\n",
    "    columns_names = [\"No. Pooled\",\"% 2019\",\"% 2018\",\"% 2017\",\"No. Pooled_full\",\"% 2019_full\",\"% 2018_full\",\"% 2017_full\"]\n",
    "    pooled_column = 'No. Pooled'\n",
    "    pooled_column_full = 'No. Pooled_full'\n",
    "    pooled_columns = [pooled_column,pooled_column_full]\n",
    "    pooled_dfs = df_R5,df_R5_full\n",
    "    pooled_df = df_R5\n",
    "    pooled_df_full = df_R5_full\n",
    "    years_columns = [\"% 2019\",\"% 2019_full\",\"% 2018\",\"% 2018_full\",\"% 2017\",\"% 2017_full\"]\n",
    "    years_dfs = df_R5_2019,df_R5_2019_full,df_R5_2018,df_R5_2018_full,df_R5_2017,df_R5_2017_full\n",
    "    year_2019_dfs = df_R5_2019,df_R5_2019_full\n",
    "    year_2019_columns = \"2019\",\"2019_full\"\n",
    "    sum_column = 'SUM (not Nan)'\n",
    "    # Insert Data\n",
    "    new_df_name = pd.DataFrame(columns=columns_names)\n",
    "    new_df_2019 = pd.DataFrame(columns=year_2019_columns)\n",
    "    for column,dataframe in zip(pooled_columns,pooled_dfs):\n",
    "        new_df_name[column] = dataframe[feature_name].value_counts(dropna=False)\n",
    "    for column,dataframe,pooled_columns in zip(years_columns,years_dfs,pooled_columns*3):\n",
    "        if feature_name in dataframe.columns:\n",
    "            new_df_name[column] = dataframe[feature_name].value_counts(dropna=False)/new_df_name[pooled_columns]*100 \n",
    "    new_df_name=new_df_name.append(pd.Series(name=sum_column))\n",
    "    new_df_name.loc[sum_column,pooled_column] = pooled_df[feature_name].value_counts(dropna=True).sum()\n",
    "    new_df_name.loc[sum_column,pooled_column_full] = pooled_df_full[feature_name].value_counts(dropna=True).sum()\n",
    "    count=0\n",
    "    for column,dataframe in zip(years_columns,years_dfs):\n",
    "        if feature_name in dataframe.columns:\n",
    "            if count%2==0:\n",
    "                new_df_name.loc[sum_column,column] = dataframe[feature_name].value_counts(dropna=True).sum()/new_df_name.loc[sum_column,pooled_column]*100 \n",
    "            elif count%2==1:\n",
    "                new_df_name.loc[sum_column,column] = dataframe[feature_name].value_counts(dropna=True).sum()/new_df_name.loc[sum_column,pooled_column_full]*100 \n",
    "        count+=1\n",
    "    new_df_name = new_df_name.fillna(0)\n",
    "    new_df_name = new_df_name.astype('int64', copy=False)\n",
    "    for column in years_columns:\n",
    "        new_df_name[column] = new_df_name[column].map(str) + \"%\"\n",
    "    # 2019\n",
    "    for column,dataframe in zip(year_2019_columns,year_2019_dfs):\n",
    "        new_df_2019[column] = dataframe[feature_name].value_counts(dropna=True)\n",
    "    new_df_2019.index=reverse_index(new_df_2019)\n",
    "    #plot_2019=new_df_2019.plot(kind='bar',fontsize=15,figsize=(19,6),rot=0,title='2019 %s '%reverse(feature_name)).axhline(15,color='black',linestyle='dashed',label=\"15\")\n",
    "    plot_2019=new_df_2019.plot(kind='bar',fontsize=15,figsize=(16,6),rot=0,title='5 לוכשא - (םיקיתו רקס) 2019 %s  '%reverse(feature_name))\n",
    "    #plot_2019=new_df_2019.plot(kind='bar',fontsize=15,figsize=(16,6),rot=0,title='5 לוכשא - (םיקיתו רקס) 2019 %s  '%feature_name)\n",
    "    plot_2019.axhline(15,color='black',linestyle='dashed')\n",
    "    plot_2019.text(-0.64, 15,'15',fontsize=13)\n",
    "    new_df_2019.index=reverse_index(new_df_2019)\n",
    "    return new_df_name,new_df_2019,plot_2019\n",
    "\n",
    "def create_R1_R2_specific_df(feature_name,new_df_name):\n",
    "    # Define Variables\n",
    "    columns_names = [\"No. Pooled\",\"% 2019\",\"% 2018\",\"% 2017\",\"No. Pooled_full\",\"% 2019_full\",\"% 2018_full\",\"% 2017_full\"]\n",
    "    pooled_column = 'No. Pooled'\n",
    "    pooled_column_full = 'No. Pooled_full'\n",
    "    pooled_columns = [pooled_column,pooled_column_full]\n",
    "    pooled_dfs = df_R1_R2,df_R1_R2_full\n",
    "    pooled_df = df_R1_R2\n",
    "    pooled_df_full = df_R1_R2_full\n",
    "    years_columns = [\"% 2019\",\"% 2019_full\",\"% 2018\",\"% 2018_full\",\"% 2017\",\"% 2017_full\"]\n",
    "    years_dfs = df_R1_R2_2019,df_R1_R2_2019_full,df_R1_R2_2018,df_R1_R2_2018_full,df_R1_R2_2017,df_R1_R2_2017_full\n",
    "    year_2019_dfs = df_R1_R2_2019,df_R1_R2_2019_full\n",
    "    year_2019_columns = \"2019\",\"2019_full\"\n",
    "    sum_column = 'SUM (not Nan)'\n",
    "    \n",
    "    # Insert Data\n",
    "    new_df_name = pd.DataFrame(columns=columns_names)\n",
    "    new_df_2019 = pd.DataFrame(columns=year_2019_columns)\n",
    "    for column,dataframe in zip(pooled_columns,pooled_dfs):\n",
    "        new_df_name[column] = dataframe[feature_name].value_counts(dropna=False)\n",
    "    for column,dataframe,pooled_columns in zip(years_columns,years_dfs,pooled_columns*3):\n",
    "        if feature_name in dataframe.columns:\n",
    "            new_df_name[column] = dataframe[feature_name].value_counts(dropna=False)/new_df_name[pooled_columns]*100 \n",
    "    new_df_name=new_df_name.append(pd.Series(name=sum_column))\n",
    "    new_df_name.loc[sum_column,pooled_column] = pooled_df[feature_name].value_counts(dropna=True).sum()\n",
    "    new_df_name.loc[sum_column,pooled_column_full] = pooled_df_full[feature_name].value_counts(dropna=True).sum()\n",
    "    count=0\n",
    "    for column,dataframe in zip(years_columns,years_dfs):\n",
    "        if feature_name in dataframe.columns:\n",
    "            if count%2==0:\n",
    "                new_df_name.loc[sum_column,column] = dataframe[feature_name].value_counts(dropna=True).sum()/new_df_name.loc[sum_column,pooled_column]*100 \n",
    "            elif count%2==1:\n",
    "                new_df_name.loc[sum_column,column] = dataframe[feature_name].value_counts(dropna=True).sum()/new_df_name.loc[sum_column,pooled_column_full]*100 \n",
    "        count+=1\n",
    "    new_df_name = new_df_name.fillna(0)\n",
    "    new_df_name = new_df_name.astype('int64', copy=False)\n",
    "    for column in years_columns:\n",
    "        new_df_name[column] = new_df_name[column].map(str) + \"%\"\n",
    "    \n",
    "    # 2019\n",
    "    for column,dataframe in zip(year_2019_columns,year_2019_dfs):\n",
    "        new_df_2019[column] = dataframe[feature_name].value_counts(dropna=True)\n",
    "    new_df_2019.index=reverse_index(new_df_2019)\n",
    "    #plot_2019=new_df_2019.plot(kind='bar',fontsize=15,figsize=(19,6),rot=0,title='2019 %s '%reverse(feature_name)).axhline(15,color='black',linestyle='dashed',label=\"15\")\n",
    "    #plot_2019=new_df_2019.plot(kind='bar',fontsize=15,figsize=(16,6),rot=0,title='1 לוכשא - (םיקיתו רקס) 2019 %s  '%reverse(feature_name))\n",
    "    #plot_2019=new_df_2019.plot(kind='bar',fontsize=15,figsize=(16,6),rot=0,title='1+2 תולוכשא - (םיקיתו רקס) 2019 %s  '%reverse(feature_name))\n",
    "    plot_2019=new_df_2019.plot(kind='bar',fontsize=15,figsize=(16,6),rot=0,title='1+2 תולוכשא - (םיקיתו רקס) 2019 %s  '%feature_name)\n",
    "    plot_2019.axhline(15,color='black',linestyle='dashed')\n",
    "    plot_2019.text(-0.64, 15,'15',fontsize=13)\n",
    "    new_df_2019.index=reverse_index(new_df_2019)\n",
    "    \n",
    "    return new_df_name,new_df_2019,plot_2019\n",
    "\n",
    "def create_R3_R5_specific_df(feature_name,new_df_name):\n",
    "    # Define Variables\n",
    "    columns_names = [\"No. Pooled\",\"% 2019\",\"% 2018\",\"% 2017\",\"No. Pooled_full\",\"% 2019_full\",\"% 2018_full\",\"% 2017_full\"]\n",
    "    pooled_column = 'No. Pooled'\n",
    "    pooled_column_full = 'No. Pooled_full'\n",
    "    pooled_columns = [pooled_column,pooled_column_full]\n",
    "    pooled_dfs = df_R3_R5,df_R3_R5_full\n",
    "    pooled_df = df_R3_R5\n",
    "    pooled_df_full = df_R3_R5_full\n",
    "    years_columns = [\"% 2019\",\"% 2019_full\",\"% 2018\",\"% 2018_full\",\"% 2017\",\"% 2017_full\"]\n",
    "    years_dfs = df_R3_R5_2019,df_R3_R5_2019_full,df_R3_R5_2018,df_R3_R5_2018_full,df_R3_R5_2017,df_R3_R5_2017_full\n",
    "    year_2019_dfs = df_R3_R5_2019,df_R3_R5_2019_full\n",
    "    year_2019_columns = \"2019\",\"2019_full\"\n",
    "    sum_column = 'SUM (not Nan)'\n",
    "    \n",
    "    # Insert Data\n",
    "    new_df_name = pd.DataFrame(columns=columns_names)\n",
    "    new_df_2019 = pd.DataFrame(columns=year_2019_columns)\n",
    "    for column,dataframe in zip(pooled_columns,pooled_dfs):\n",
    "        new_df_name[column] = dataframe[feature_name].value_counts(dropna=False)\n",
    "    for column,dataframe,pooled_columns in zip(years_columns,years_dfs,pooled_columns*3):\n",
    "        if feature_name in dataframe.columns:\n",
    "            new_df_name[column] = dataframe[feature_name].value_counts(dropna=False)/new_df_name[pooled_columns]*100 \n",
    "    new_df_name=new_df_name.append(pd.Series(name=sum_column))\n",
    "    new_df_name.loc[sum_column,pooled_column] = pooled_df[feature_name].value_counts(dropna=True).sum()\n",
    "    new_df_name.loc[sum_column,pooled_column_full] = pooled_df_full[feature_name].value_counts(dropna=True).sum()\n",
    "    count=0\n",
    "    for column,dataframe in zip(years_columns,years_dfs):\n",
    "        if feature_name in dataframe.columns:\n",
    "            if count%2==0:\n",
    "                new_df_name.loc[sum_column,column] = dataframe[feature_name].value_counts(dropna=True).sum()/new_df_name.loc[sum_column,pooled_column]*100 \n",
    "            elif count%2==1:\n",
    "                new_df_name.loc[sum_column,column] = dataframe[feature_name].value_counts(dropna=True).sum()/new_df_name.loc[sum_column,pooled_column_full]*100 \n",
    "        count+=1\n",
    "    new_df_name = new_df_name.fillna(0)\n",
    "    new_df_name = new_df_name.astype('int64', copy=False)\n",
    "    for column in years_columns:\n",
    "        new_df_name[column] = new_df_name[column].map(str) + \"%\"\n",
    "    \n",
    "    # 2019\n",
    "    for column,dataframe in zip(year_2019_columns,year_2019_dfs):\n",
    "        new_df_2019[column] = dataframe[feature_name].value_counts(dropna=True)\n",
    "    new_df_2019.index=reverse_index(new_df_2019)\n",
    "    #plot_2019=new_df_2019.plot(kind='bar',fontsize=15,figsize=(19,6),rot=0,title='2019 %s '%reverse(feature_name)).axhline(15,color='black',linestyle='dashed',label=\"15\")\n",
    "    #plot_2019=new_df_2019.plot(kind='bar',fontsize=15,figsize=(16,6),rot=0,title='1 לוכשא - (םיקיתו רקס) 2019 %s  '%reverse(feature_name))\n",
    "    #plot_2019=new_df_2019.plot(kind='bar',fontsize=15,figsize=(16,6),rot=0,title='3+5 תולוכשא - (םיקיתו רקס) 2019 %s  '%reverse(feature_name))\n",
    "    plot_2019=new_df_2019.plot(kind='bar',fontsize=15,figsize=(16,6),rot=0,title='3+5 תולוכשא - (םיקיתו רקס) 2019 %s  '%feature_name)\n",
    "    plot_2019.axhline(15,color='black',linestyle='dashed')\n",
    "    plot_2019.text(-0.64, 15,'15',fontsize=13)\n",
    "    new_df_2019.index=reverse_index(new_df_2019)\n",
    "    \n",
    "    return new_df_name,new_df_2019,plot_2019"
   ]
  },
  {
   "cell_type": "markdown",
   "metadata": {},
   "source": [
    "#### Sex"
   ]
  },
  {
   "cell_type": "code",
   "execution_count": null,
   "metadata": {},
   "outputs": [],
   "source": [
    "feature_name=\"ש' 2019 בלבד - Q26 (סוקר נא לא להקריא אלא למלא לבד) : מין המרואיין \"\n",
    "sex_R1,sex_R1_2019,sex_R1_2019_pooled=create_R1_specific_df(feature_name,sex)\n",
    "sex_R1"
   ]
  },
  {
   "cell_type": "code",
   "execution_count": null,
   "metadata": {},
   "outputs": [],
   "source": [
    "feature_name=\"ש' 2019 בלבד - Q26 (סוקר נא לא להקריא אלא למלא לבד) : מין המרואיין \"\n",
    "sex_R2,sex_R2_2019,sex_R2_2019_pooled=create_R2_specific_df(feature_name,sex)\n",
    "sex_R2"
   ]
  },
  {
   "cell_type": "code",
   "execution_count": null,
   "metadata": {},
   "outputs": [],
   "source": [
    "feature_name=\"ש' 2019 בלבד - Q26 (סוקר נא לא להקריא אלא למלא לבד) : מין המרואיין \"\n",
    "sex_R3,sex_R3_2019,sex_R3_2019_pooled=create_R3_specific_df(feature_name,sex)\n",
    "sex_R3"
   ]
  },
  {
   "cell_type": "code",
   "execution_count": null,
   "metadata": {},
   "outputs": [],
   "source": [
    "feature_name=\"ש' 2019 בלבד - Q26 (סוקר נא לא להקריא אלא למלא לבד) : מין המרואיין \"\n",
    "sex_R5,sex_R5_2019,sex_R5_2019_pooled=create_R5_specific_df(feature_name,sex)\n",
    "sex_R5"
   ]
  },
  {
   "cell_type": "code",
   "execution_count": null,
   "metadata": {},
   "outputs": [],
   "source": [
    "feature_name=\"ש' 2019 בלבד - Q26 (סוקר נא לא להקריא אלא למלא לבד) : מין המרואיין \"\n",
    "sex_R1_R2,sex_R1_R2_2019,sex_R1_R2_2019_pooled=create_R1_R2_specific_df(feature_name,sex)\n",
    "sex_R1_R2"
   ]
  },
  {
   "cell_type": "code",
   "execution_count": null,
   "metadata": {},
   "outputs": [],
   "source": [
    "feature_name=\"ש' 2019 בלבד - Q26 (סוקר נא לא להקריא אלא למלא לבד) : מין המרואיין \"\n",
    "sex_R3_R5,sex_R3_R5_2019,sex_R3_R5_2019_pooled=create_R3_R5_specific_df(feature_name,sex)\n",
    "sex_R3_R5"
   ]
  },
  {
   "cell_type": "markdown",
   "metadata": {},
   "source": [
    "#### population groups"
   ]
  },
  {
   "cell_type": "code",
   "execution_count": null,
   "metadata": {},
   "outputs": [],
   "source": [
    "feature_name=\"אוכלוסיה\"\n",
    "groups_R1,groups_R1_2019,groups_R1_2019_pooled=create_R1_specific_df(feature_name,groups)\n",
    "groups_R1"
   ]
  },
  {
   "cell_type": "code",
   "execution_count": null,
   "metadata": {},
   "outputs": [],
   "source": [
    "feature_name=\"אוכלוסיה\"\n",
    "groups_R2,groups_R2_2019,groups_R2_2019_pooled=create_R2_specific_df(feature_name,groups)\n",
    "groups_R2"
   ]
  },
  {
   "cell_type": "code",
   "execution_count": null,
   "metadata": {},
   "outputs": [],
   "source": [
    "feature_name=\"אוכלוסיה\"\n",
    "groups_R3,groups_R3_2019,groups_R3_2019_pooled=create_R3_specific_df(feature_name,groups)\n",
    "groups_R3"
   ]
  },
  {
   "cell_type": "code",
   "execution_count": null,
   "metadata": {},
   "outputs": [],
   "source": [
    "feature_name=\"אוכלוסיה\"\n",
    "groups_R5,groups_R5_2019,groups_R5_2019_pooled=create_R5_specific_df(feature_name,groups)\n",
    "groups_R5"
   ]
  },
  {
   "cell_type": "code",
   "execution_count": null,
   "metadata": {},
   "outputs": [],
   "source": [
    "feature_name=\"אוכלוסיה\"\n",
    "is_jewish_R1_R2,is_jewish_R1_R2_2019,is_jewish_R1_R2_2019_pooled=create_R1_R2_specific_df(feature_name,\"אוכלוסיה\")\n",
    "is_jewish_R1_R2"
   ]
  },
  {
   "cell_type": "code",
   "execution_count": null,
   "metadata": {},
   "outputs": [],
   "source": [
    "feature_name=\"אוכלוסיה\"\n",
    "is_jewish_R3_R5,is_jewish_R3_R5_2019,is_jewish_R3_R5_2019_pooled=create_R3_R5_specific_df(feature_name,\"אוכלוסיה\")\n",
    "is_jewish_R3_R5"
   ]
  },
  {
   "cell_type": "markdown",
   "metadata": {},
   "source": [
    "#### education"
   ]
  },
  {
   "cell_type": "code",
   "execution_count": null,
   "metadata": {},
   "outputs": [],
   "source": [
    "feature_name=\"is_academic_education\"\n",
    "is_academic_R1_R2,is_academic_R1_R2_2019,is_academic_R1_R2_2019_pooled=create_R1_R2_specific_df(feature_name,\"אוכלוסיה\")\n",
    "is_academic_R1_R2"
   ]
  },
  {
   "cell_type": "code",
   "execution_count": null,
   "metadata": {},
   "outputs": [],
   "source": [
    "feature_name=\"is_academic_education\"\n",
    "is_academic_R3_R5,is_academic_R3_R5_2019,is_academic_R3_R5_2019_pooled=create_R3_R5_specific_df(feature_name,\"אוכלוסיה\")\n",
    "is_academic_R3_R5"
   ]
  },
  {
   "cell_type": "markdown",
   "metadata": {},
   "source": [
    "#### Jewish or not"
   ]
  },
  {
   "cell_type": "code",
   "execution_count": null,
   "metadata": {},
   "outputs": [],
   "source": [
    "feature_name=\"is_jewish\"\n",
    "are_jewish_R1,are_jewish_R1_2019,are_jewish_R1_2019_plot=create_R1_specific_df(\"is_jewish\",are_jewish)\n",
    "are_jewish_R1"
   ]
  },
  {
   "cell_type": "code",
   "execution_count": null,
   "metadata": {},
   "outputs": [],
   "source": [
    "feature_name=\"is_jewish\"\n",
    "are_jewish_R2,are_jewish_R2_2019,are_jewish_R2_2019_plot=create_R2_specific_df(\"is_jewish\",are_jewish)\n",
    "are_jewish_R2"
   ]
  },
  {
   "cell_type": "code",
   "execution_count": null,
   "metadata": {},
   "outputs": [],
   "source": [
    "feature_name=\"is_jewish\"\n",
    "are_jewish_R3,are_jewish_R3_2019,are_jewish_R3_2019_plot=create_R3_specific_df(\"is_jewish\",are_jewish)\n",
    "are_jewish_R3"
   ]
  },
  {
   "cell_type": "code",
   "execution_count": null,
   "metadata": {},
   "outputs": [],
   "source": [
    "feature_name=\"is_jewish\"\n",
    "are_jewish_R5,are_jewish_R5_2019,are_jewish_R5_2019_plot=create_R5_specific_df(\"is_jewish\",are_jewish)\n",
    "are_jewish_R5"
   ]
  },
  {
   "cell_type": "code",
   "execution_count": null,
   "metadata": {},
   "outputs": [],
   "source": [
    "feature_name=\"is_jewish\"\n",
    "are_jewish_R1_R2,are_jewish_R1_R2_2019,are_jewish_R1_R2_2019_plot=create_R1_R2_specific_df(\"is_jewish\",are_jewish)\n",
    "are_jewish_R1_R2"
   ]
  },
  {
   "cell_type": "code",
   "execution_count": null,
   "metadata": {},
   "outputs": [],
   "source": [
    "feature_name=\"is_jewish\"\n",
    "are_jewish_R3_R5,are_jewish_R3_R5_2019,are_jewish_R3_R5_2019_plot=create_R3_R5_specific_df(\"is_jewish\",are_jewish)\n",
    "are_jewish_R3_R5"
   ]
  },
  {
   "cell_type": "markdown",
   "metadata": {},
   "source": [
    "### business sector"
   ]
  },
  {
   "cell_type": "code",
   "execution_count": null,
   "metadata": {},
   "outputs": [],
   "source": [
    "feature_name=\"business_sector\"\n",
    "business_sector_R1_R2,business_sector_R1_R2_2019,business_sector_R1_R2_2019_plot=create_R1_R2_specific_df(\"business_sector\",business_sector)\n",
    "business_sector_R1_R2"
   ]
  },
  {
   "cell_type": "code",
   "execution_count": null,
   "metadata": {},
   "outputs": [],
   "source": [
    "feature_name=\"business_sector\"\n",
    "business_sector_R3_R5,business_sector_R3_R5_2019,business_sector_R3_R5_2019_plot=create_R3_R5_specific_df(\"business_sector\",business_sector)\n",
    "business_sector_R3_R5"
   ]
  },
  {
   "cell_type": "markdown",
   "metadata": {},
   "source": [
    "### business size"
   ]
  },
  {
   "cell_type": "code",
   "execution_count": null,
   "metadata": {},
   "outputs": [],
   "source": [
    "feature_name=\"business_size\"\n",
    "business_size_R1_R2,business_size_R1_R2_2019,business_size_R1_R2_2019_plot=create_R1_R2_specific_df(\"business_size\",business_size)\n",
    "business_size_R1_R2=business_size_R1_R2.drop(columns=['% 2018','% 2017','% 2018_full','% 2017_full'])\n",
    "business_size_R1_R2\n",
    "business_size_R1_R2"
   ]
  },
  {
   "cell_type": "code",
   "execution_count": null,
   "metadata": {},
   "outputs": [],
   "source": [
    "feature_name=\"business_size\"\n",
    "business_size_R3_R5,business_size_R3_R5_2019,business_size_R3_R5_2019_plot=create_R3_R5_specific_df(\"business_size\",business_size)\n",
    "business_size_R3_R5=business_size_R3_R5.drop(columns=['% 2018','% 2017','% 2018_full','% 2017_full'])\n",
    "business_size_R3_R5"
   ]
  },
  {
   "cell_type": "markdown",
   "metadata": {},
   "source": [
    "## Descriptive Statistics - Questions responsivness"
   ]
  },
  {
   "cell_type": "code",
   "execution_count": null,
   "metadata": {},
   "outputs": [],
   "source": [
    "df_2019.dtypes.value_counts()"
   ]
  },
  {
   "cell_type": "code",
   "execution_count": null,
   "metadata": {},
   "outputs": [],
   "source": [
    "df_2019.dtypes[(df_2019.dtypes!=\"int64\")&(df_2019.dtypes!=\"int32\")].value_counts()"
   ]
  },
  {
   "cell_type": "code",
   "execution_count": null,
   "metadata": {},
   "outputs": [],
   "source": [
    "df_2019.dtypes[(df_2019.dtypes==\"int64\")]"
   ]
  },
  {
   "cell_type": "code",
   "execution_count": null,
   "metadata": {},
   "outputs": [],
   "source": [
    "questions_responsiveness_2019"
   ]
  },
  {
   "cell_type": "code",
   "execution_count": null,
   "metadata": {},
   "outputs": [],
   "source": [
    "questions_responsiveness_2018"
   ]
  },
  {
   "cell_type": "code",
   "execution_count": null,
   "metadata": {},
   "outputs": [],
   "source": [
    "questions_responsiveness_2017"
   ]
  },
  {
   "cell_type": "code",
   "execution_count": null,
   "metadata": {},
   "outputs": [],
   "source": [
    "df_2019[df_2019.columns.difference(non_informative_features)].describe().T.round(1)\n",
    "df_2019[df_2019.columns.difference(non_informative_features)].count"
   ]
  },
  {
   "cell_type": "markdown",
   "metadata": {},
   "source": [
    "### 2018 Survey:"
   ]
  },
  {
   "cell_type": "code",
   "execution_count": null,
   "metadata": {},
   "outputs": [],
   "source": [
    "questions_responsiveness_2018 = pd.DataFrame(df_2018[df_2018.columns.difference(non_informative_features)].count().sort_values(ascending=False))\n",
    "df_2018=df_2018[questions_responsiveness_2018[questions_responsiveness_2018.iloc[:,0]>0].index]"
   ]
  },
  {
   "cell_type": "code",
   "execution_count": null,
   "metadata": {},
   "outputs": [],
   "source": [
    "questions_responsiveness_2018.index"
   ]
  },
  {
   "cell_type": "code",
   "execution_count": null,
   "metadata": {},
   "outputs": [],
   "source": [
    "df_2018[\"ש' 2019 בלבד - Q26 (סוקר נא לא להקריא אלא למלא לבד) : מין המרואיין \"].value_counts(dropna=False)"
   ]
  },
  {
   "cell_type": "code",
   "execution_count": null,
   "metadata": {},
   "outputs": [],
   "source": [
    "df_2018[df_2018.columns.difference(non_informative_features)].describe().T.round(1)"
   ]
  },
  {
   "cell_type": "markdown",
   "metadata": {},
   "source": [
    "### 2017 Survey:"
   ]
  },
  {
   "cell_type": "code",
   "execution_count": null,
   "metadata": {},
   "outputs": [],
   "source": [
    "df_2017[df_2017.columns.difference(non_informative_features)].describe().T.round(1)"
   ]
  },
  {
   "cell_type": "code",
   "execution_count": null,
   "metadata": {},
   "outputs": [],
   "source": [
    "questions_responsiveness_2017 = pd.DataFrame(df_2017[df_2017.columns.difference(non_informative_features)].count().sort_values(ascending=False))\n",
    "questions_responsiveness_2017"
   ]
  },
  {
   "cell_type": "markdown",
   "metadata": {},
   "source": [
    "### Convert qualitative features into dummies"
   ]
  },
  {
   "cell_type": "code",
   "execution_count": null,
   "metadata": {},
   "outputs": [],
   "source": [
    "#df.select_dtypes(include=[\"bool_\",\"object_\"])\n",
    "df=pd.concat([df,pd.get_dummies(df[cols[11]])],axis=1)\n",
    "df"
   ]
  },
  {
   "cell_type": "markdown",
   "metadata": {},
   "source": [
    "## Random Effect Model explaining number of employees"
   ]
  },
  {
   "cell_type": "code",
   "execution_count": null,
   "metadata": {},
   "outputs": [],
   "source": [
    "# Need to create the independent var!\n",
    "exog_vars = ['change_in_number_of_employees', ‘employ’]\n",
    "exog = sm.add_constant(data[exog_vars])\n",
    "mod = RandomEffects(data.clscrap, exog)\n",
    "re_res = mod.fit()\n",
    "print(re_res)"
   ]
  },
  {
   "cell_type": "markdown",
   "metadata": {},
   "source": [
    "## Random Effect Model explaining overall satisfaction"
   ]
  },
  {
   "cell_type": "code",
   "execution_count": null,
   "metadata": {},
   "outputs": [],
   "source": [
    "exog_vars = ['general_satisfaction_center_contribution_to_business_development', ‘employ’]\n",
    "exog = sm.add_constant(data[exog_vars])\n",
    "mod = RandomEffects(data.clscrap, exog)\n",
    "re_res = mod.fit()\n",
    "print(re_res)"
   ]
  }
 ],
 "metadata": {
  "kernelspec": {
   "display_name": "Python 3",
   "language": "python",
   "name": "python3"
  },
  "language_info": {
   "codemirror_mode": {
    "name": "ipython",
    "version": 3
   },
   "file_extension": ".py",
   "mimetype": "text/x-python",
   "name": "python",
   "nbconvert_exporter": "python",
   "pygments_lexer": "ipython3",
   "version": "3.7.1"
  }
 },
 "nbformat": 4,
 "nbformat_minor": 2
}
